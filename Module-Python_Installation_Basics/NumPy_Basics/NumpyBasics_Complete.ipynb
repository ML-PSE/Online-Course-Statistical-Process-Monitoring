{
 "cells": [
  {
   "cell_type": "markdown",
   "metadata": {},
   "source": [
    "# **Module**: Python Installation and Basics\n",
    "## **Lecture**: Scientific Computing Package - Numpy"
   ]
  },
  {
   "cell_type": "markdown",
   "metadata": {},
   "source": [
    "> ## Numpy introduction"
   ]
  },
  {
   "cell_type": "code",
   "execution_count": 1,
   "metadata": {},
   "outputs": [
    {
     "name": "stdout",
     "output_type": "stream",
     "text": [
      "[2, 3, 4, 2, 3, 4]\n"
     ]
    }
   ],
   "source": [
    "# inconvenience with lists\n",
    "list1 = [2,3,4]\n",
    "list1_doubled = 2*list1\n",
    "\n",
    "print(list1_doubled)"
   ]
  },
  {
   "cell_type": "code",
   "execution_count": 2,
   "metadata": {},
   "outputs": [
    {
     "name": "stdout",
     "output_type": "stream",
     "text": [
      "arr1D:  [2 3 4]\n",
      "arr1D_doubled:  [4 6 8]\n",
      "Number of items in arr1D:  3\n",
      "Dimensionality of arr1D:  1\n",
      "Shape of arr1D:  (3,)\n"
     ]
    }
   ],
   "source": [
    "# create a 1D array\n",
    "import numpy as np\n",
    "\n",
    "arr1D = np.array([2,3,4]) \n",
    "print('arr1D: ', arr1D)\n",
    "\n",
    "# double each item in arr1D\n",
    "arr1D_doubled = 2*arr1D\n",
    "print('arr1D_doubled: ', arr1D_doubled)\n",
    "\n",
    "# get information about arr1D\n",
    "print('Number of items in arr1D: ', arr1D.size)\n",
    "print('Dimensionality of arr1D: ', arr1D.ndim)\n",
    "print('Shape of arr1D: ', arr1D.shape) # number of items along each dimension"
   ]
  },
  {
   "cell_type": "code",
   "execution_count": 3,
   "metadata": {},
   "outputs": [
    {
     "name": "stdout",
     "output_type": "stream",
     "text": [
      "arr2D: \n",
      " [[1 4 6]\n",
      " [2 5 7]]\n",
      "Number of items in arr2D:  6\n",
      "Dimensionality of arr2D:  2\n",
      "Shape of arr2D:  (2, 3)\n"
     ]
    }
   ],
   "source": [
    "# create a 2D array\n",
    "import numpy as np\n",
    "\n",
    "arr2D = np.array([[1,4,6],[2,5,7]]) \n",
    "print('arr2D: \\n', arr2D)\n",
    "\n",
    "# get information about arr2D\n",
    "print('Number of items in arr2D: ', arr2D.size)\n",
    "print('Dimensionality of arr2D: ', arr2D.ndim)\n",
    "print('Shape of arr2D: ', arr2D.shape) # number of items along each dimension\n"
   ]
  },
  {
   "cell_type": "markdown",
   "metadata": {},
   "source": [
    "> ## Creating Numpy Arrays "
   ]
  },
  {
   "cell_type": "code",
   "execution_count": 4,
   "metadata": {},
   "outputs": [
    {
     "name": "stdout",
     "output_type": "stream",
     "text": [
      "arr1:  [3 4 5 6 7 8]\n",
      "arr2:  [3 5 7]\n",
      "arr3:  [3. 6. 9.]\n"
     ]
    }
   ],
   "source": [
    "# creating sequence of numbers\n",
    "arr1 = np.arange(3, 9) # same as Python range function\n",
    "print('arr1: ', arr1)\n",
    "\n",
    "arr2 = np.arange(3, 9, 2) # the 3rd argument defines the step size\n",
    "print('arr2: ', arr2)\n",
    "\n",
    "arr3 = np.linspace(3,9,3) # creates evenly spaced 3 values from 1 to 9\n",
    "print('arr3: ', arr3)"
   ]
  },
  {
   "cell_type": "code",
   "execution_count": 5,
   "metadata": {},
   "outputs": [
    {
     "name": "stdout",
     "output_type": "stream",
     "text": [
      "arr4: \n",
      " [[1.]\n",
      " [1.]]\n",
      "arr4: \n",
      " [[1]\n",
      " [1]]\n",
      "arr5: \n",
      " [[0. 0.]\n",
      " [0. 0.]]\n",
      "arr6: \n",
      " [[1. 0.]\n",
      " [0. 1.]]\n"
     ]
    }
   ],
   "source": [
    "# creating special arrays\n",
    "arr4 = np.ones((2,1)) # array of shape (2,1) with all items as 1\n",
    "print('arr4: \\n', arr4)\n",
    "\n",
    "arr4 = np.ones((2,1), dtype=int) # array of shape (2,1) with all items as 1\n",
    "print('arr4: \\n', arr4)\n",
    "\n",
    "arr5 = np.zeros((2,2)) # all items as zero\n",
    "print('arr5: \\n', arr5)\n",
    "\n",
    "arr6 = np.eye(2) # diagonal items as 1\n",
    "print('arr6: \\n', arr6)"
   ]
  },
  {
   "cell_type": "code",
   "execution_count": 6,
   "metadata": {},
   "outputs": [
    {
     "name": "stdout",
     "output_type": "stream",
     "text": [
      "arr1:  [3 4 5 6 7 8]\n",
      "arr1 in 2D: \n",
      " [[3]\n",
      " [4]\n",
      " [5]\n",
      " [6]\n",
      " [7]\n",
      " [8]]\n",
      "\n",
      " arr7: \n",
      " [[3]\n",
      " [4]\n",
      " [5]\n",
      " [6]\n",
      " [7]\n",
      " [8]]\n"
     ]
    }
   ],
   "source": [
    "# adding axis to existing arrays (e.g., converting 1D array to 2D array)\n",
    "print('arr1: ', arr1)\n",
    "print('arr1 in 2D: \\n', arr1[:, np.newaxis])\n",
    "\n",
    "arr7 = arr1[:, None] # same as above\n",
    "print('\\n arr7: \\n', arr7)"
   ]
  },
  {
   "cell_type": "code",
   "execution_count": 7,
   "metadata": {},
   "outputs": [
    {
     "name": "stdout",
     "output_type": "stream",
     "text": [
      "arr1:  [3 4 5]\n",
      "arr2:  [3 5 7]\n",
      "\n",
      "arr4: \n",
      " [[1]\n",
      " [1]]\n",
      "\n",
      "arr5: \n",
      " [[0. 0.]\n",
      " [0. 0.]]\n",
      "\n",
      "arr6: \n",
      " [[1. 0.]\n",
      " [0. 1.]]\n",
      "\n",
      "----stack arrays horizontally----- \n",
      "\n",
      "arr1 and arr2:  [3 4 5 3 5 7]\n",
      "arr5 and arr4: \n",
      " [[0. 0. 1.]\n",
      " [0. 0. 1.]]\n",
      "\n",
      "----stack arrays vertically---- \n",
      "\n",
      "arr1 and arr2: \n",
      " [[3 4 5]\n",
      " [3 5 7]]\n",
      "arr5 and arr6: \n",
      " [[0. 0.]\n",
      " [0. 0.]\n",
      " [1. 0.]\n",
      " [0. 1.]]\n"
     ]
    }
   ],
   "source": [
    "# combining / stacking arrays\n",
    "arr1 = np.array([3,4,5])\n",
    "print('arr1: ', arr1)\n",
    "\n",
    "arr2 = np.array([3,5,7])\n",
    "print('arr2: ', arr2)\n",
    "\n",
    "print('\\narr4: \\n', arr4)\n",
    "print('\\narr5: \\n', arr5)\n",
    "print('\\narr6: \\n', arr6)\n",
    "\n",
    "print('\\n----stack arrays horizontally----- \\n')\n",
    "print('arr1 and arr2: ', np.hstack((arr1, arr2))) # horizontally stacks passed arrays\n",
    "print('arr5 and arr4: \\n', np.hstack((arr5,arr4))) # array 4 added as a column into arr5\n",
    "\n",
    "print('\\n----stack arrays vertically---- \\n')\n",
    "print('arr1 and arr2: \\n', np.vstack((arr1, arr2))) # vertically stacks passed arrays\n",
    "print('arr5 and arr6: \\n', np.vstack((arr5,arr6))) # rows of array 6 added onto arr5"
   ]
  },
  {
   "cell_type": "markdown",
   "metadata": {},
   "source": [
    "> ## Numpy Functions"
   ]
  },
  {
   "cell_type": "code",
   "execution_count": 8,
   "metadata": {},
   "outputs": [
    {
     "name": "stdout",
     "output_type": "stream",
     "text": [
      "arr2D: \n",
      " [[1 4 6]\n",
      " [2 5 7]]\n",
      "Summing up values along the rows of arr2D:  [ 3  9 13]\n",
      "Summing up values along the columns of arr2D:  [11 14]\n",
      "Summing up all the values of arr2D:  25\n"
     ]
    }
   ],
   "source": [
    "# basic numpy functions\n",
    "print('arr2D: \\n', arr2D)\n",
    "\n",
    "print('Summing up values along the rows of arr2D: ', arr2D.sum(axis=0))\n",
    "print('Summing up values along the columns of arr2D: ', arr2D.sum(axis=1))\n",
    "print('Summing up all the values of arr2D: ', arr2D.sum())"
   ]
  },
  {
   "cell_type": "markdown",
   "metadata": {},
   "source": [
    "> ## Logical Operations"
   ]
  },
  {
   "cell_type": "code",
   "execution_count": 9,
   "metadata": {},
   "outputs": [
    {
     "name": "stdout",
     "output_type": "stream",
     "text": [
      "array1: \n",
      " [[5 4 3]\n",
      " [2 1 0]]\n",
      "array2: \n",
      " [[0 1 0]\n",
      " [2 0 1]]\n"
     ]
    }
   ],
   "source": [
    "array1 = np.array([[5,4,3],[2,1,0]])\n",
    "print('array1: \\n', array1)\n",
    "\n",
    "array2 = np.array([[0,1,0],[2,0,1]])\n",
    "print('array2: \\n', array2)"
   ]
  },
  {
   "cell_type": "code",
   "execution_count": 10,
   "metadata": {},
   "outputs": [
    {
     "name": "stdout",
     "output_type": "stream",
     "text": [
      "element-wise OR operation: \n",
      " [[ True  True False]\n",
      " [False False  True]]\n",
      "element-wise AND operation: \n",
      " [[False  True False]\n",
      " [False False False]]\n"
     ]
    }
   ],
   "source": [
    "# element-wise OR operation\n",
    "print('element-wise OR operation: \\n', np.logical_or(array1>3, array2==1))\n",
    "\n",
    "# element-wise AND operation\n",
    "print('element-wise AND operation: \\n', np.logical_and(array1>3, array2==1))\n"
   ]
  },
  {
   "cell_type": "code",
   "execution_count": 11,
   "metadata": {},
   "outputs": [
    {
     "data": {
      "text/plain": [
       "False"
      ]
     },
     "execution_count": 11,
     "metadata": {},
     "output_type": "execute_result"
    }
   ],
   "source": [
    "# check if all elements are TRUE\n",
    "np.all(array2 > 0)"
   ]
  },
  {
   "cell_type": "code",
   "execution_count": 12,
   "metadata": {},
   "outputs": [
    {
     "data": {
      "text/plain": [
       "True"
      ]
     },
     "execution_count": 12,
     "metadata": {},
     "output_type": "execute_result"
    }
   ],
   "source": [
    "# check if any element is TRUE\n",
    "np.any(array2 > 0)"
   ]
  },
  {
   "cell_type": "markdown",
   "metadata": {},
   "source": [
    "> ## Indexing and Slicing Arrays"
   ]
  },
  {
   "cell_type": "code",
   "execution_count": 13,
   "metadata": {},
   "outputs": [
    {
     "name": "stdout",
     "output_type": "stream",
     "text": [
      "arr2D: \n",
      " [[1 4 6]\n",
      " [2 5 7]]\n",
      "7\n"
     ]
    }
   ],
   "source": [
    "# accessing individual items\n",
    "print('arr2D: \\n', arr2D)\n",
    "print(arr2D[1,2])"
   ]
  },
  {
   "cell_type": "code",
   "execution_count": 14,
   "metadata": {},
   "outputs": [
    {
     "name": "stdout",
     "output_type": "stream",
     "text": [
      "array3: \n",
      " [[0 1 2 3 4]\n",
      " [5 6 7 8 9]]\n",
      "\n",
      "\n",
      "[[1 2]]\n",
      "[1 2]\n"
     ]
    }
   ],
   "source": [
    "# slicing\n",
    "array3 = np.arange(10).reshape((2,5)) # rearrange the 1D array into shape (2,5)\n",
    "print('array3: \\n', array3)\n",
    "\n",
    "print('\\n')\n",
    "print((array3[0:1,1:3]))\n",
    "print((array3[0,1:3])) # note that a 1D array is returned here instead of the 2D array above"
   ]
  },
  {
   "cell_type": "code",
   "execution_count": 15,
   "metadata": {},
   "outputs": [
    {
     "name": "stdout",
     "output_type": "stream",
     "text": [
      "[5 6 7 8 9]\n",
      "[4 9]\n"
     ]
    }
   ],
   "source": [
    "# accessing entire row or column\n",
    "print(array3[1]) # returns 2nd row; same as array3[1,:]\n",
    "print(array3[:, 4]) # returns items of 3rd column as a 1D array "
   ]
  },
  {
   "cell_type": "markdown",
   "metadata": {},
   "source": [
    "> ## Working with Views versus Copies"
   ]
  },
  {
   "cell_type": "code",
   "execution_count": 16,
   "metadata": {},
   "outputs": [
    {
     "name": "stdout",
     "output_type": "stream",
     "text": [
      "array3: \n",
      " [[0 1 2 3 4]\n",
      " [5 6 7 8 9]]\n",
      "array3 after view modification: \n",
      " [[   0    1    2    3    4]\n",
      " [   5 1000    7    8    9]]\n"
     ]
    }
   ],
   "source": [
    "# extract a subarray from arr8 and modify it\n",
    "print('array3: \\n', array3)\n",
    "\n",
    "array3_sub = array3[:, :2] # columns 0 and 1 from all rows\n",
    "array3_sub[1, 1] = 1000\n",
    "print('array3 after view modification: \\n', array3) # array3 gets modified as well!! "
   ]
  },
  {
   "cell_type": "code",
   "execution_count": 17,
   "metadata": {},
   "outputs": [
    {
     "name": "stdout",
     "output_type": "stream",
     "text": [
      "array3: \n",
      " [[0 1 2 3 4]\n",
      " [5 6 7 8 9]]\n",
      "array3 after copy modification: \n",
      " [[0 1 2 3 4]\n",
      " [5 6 7 8 9]]\n"
     ]
    }
   ],
   "source": [
    "# use copy method for a separate copy\n",
    "array3 = np.arange(10).reshape((2,5))\n",
    "print('array3: \\n', array3)\n",
    "\n",
    "array3_sub2 = array3[:, :2].copy()\n",
    "array3_sub2[1, 1] = 100\n",
    "print('array3 after copy modification: \\n', array3)"
   ]
  },
  {
   "cell_type": "markdown",
   "metadata": {},
   "source": [
    "> ### scenarios where slicing returns a copy and not a view"
   ]
  },
  {
   "cell_type": "code",
   "execution_count": 20,
   "metadata": {},
   "outputs": [
    {
     "name": "stdout",
     "output_type": "stream",
     "text": [
      "array3 after copy modification: \n",
      " [[0 1 2 3 4]\n",
      " [5 6 7 8 9]]\n",
      "array3 after copy modification: \n",
      " [[0 1 2 3 4]\n",
      " [5 6 7 8 9]]\n"
     ]
    }
   ],
   "source": [
    "# Fancy indexing\n",
    "# combination of simple and fancy indexing\n",
    "array3_sub3 = array3[:, [0, 1]] # note how columns are indexed via a list\n",
    "array3_sub3[1, 1] = 100\n",
    "print('array3 after copy modification: \\n', array3)\n",
    "\n",
    "# use boolean mask to select subarray\n",
    "array3_sub4 = array3[array3 > 5] \n",
    "array3_sub4[0] = 0\n",
    "print('array3 after copy modification: \\n', array3)"
   ]
  }
 ],
 "metadata": {
  "kernelspec": {
   "display_name": "base",
   "language": "python",
   "name": "python3"
  },
  "language_info": {
   "codemirror_mode": {
    "name": "ipython",
    "version": 3
   },
   "file_extension": ".py",
   "mimetype": "text/x-python",
   "name": "python",
   "nbconvert_exporter": "python",
   "pygments_lexer": "ipython3",
   "version": "3.12.7"
  }
 },
 "nbformat": 4,
 "nbformat_minor": 2
}
