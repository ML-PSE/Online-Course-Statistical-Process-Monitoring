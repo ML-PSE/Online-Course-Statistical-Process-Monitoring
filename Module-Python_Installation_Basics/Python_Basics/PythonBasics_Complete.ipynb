{
 "cells": [
  {
   "cell_type": "markdown",
   "metadata": {},
   "source": [
    "# **Module**: Python Installation and Basics\n",
    "## **Lecture**: Python Language Basics"
   ]
  },
  {
   "cell_type": "code",
   "execution_count": 303,
   "metadata": {},
   "outputs": [
    {
     "name": "stdout",
     "output_type": "stream",
     "text": [
      "i is of type:  <class 'int'>\n",
      "f is of type:  <class 'float'>\n",
      "s is of type:  <class 'str'>\n",
      "b is of type:  <class 'bool'>\n"
     ]
    }
   ],
   "source": [
    "# basic data types\n",
    "i = 2 # integer\n",
    "print('i is of type: ', type(i))\n",
    "\n",
    "f = 1.2 # floating-point number\n",
    "print('f is of type: ', type(f))\n",
    "      \n",
    "s = 'two' # string\n",
    "print('s is of type: ', type(s))\n",
    "\n",
    "b = True # boolean\n",
    "print('b is of type: ', type(b))\n"
   ]
  },
  {
   "cell_type": "code",
   "execution_count": 304,
   "metadata": {},
   "outputs": [
    {
     "name": "stdout",
     "output_type": "stream",
     "text": [
      "4\n",
      "2.4\n",
      "True\n",
      "False\n"
     ]
    }
   ],
   "source": [
    "# basic operations\n",
    "print(i+2)\n",
    "\n",
    "print(f*2) \n",
    "\n",
    "bb = i < 3\n",
    "print(b)\n",
    "print(not b) "
   ]
  },
  {
   "cell_type": "code",
   "execution_count": 305,
   "metadata": {},
   "outputs": [],
   "source": [
    "# ==================================================================================\n",
    "#                              Sequence of data\n",
    "# =================================================================================="
   ]
  },
  {
   "cell_type": "code",
   "execution_count": 306,
   "metadata": {},
   "outputs": [
    {
     "name": "stdout",
     "output_type": "stream",
     "text": [
      "list1 =  [2, 4, 6]\n",
      "list2 =  ['air', 3, 1, 5]\n",
      "list3 =  [0, 1, 2, 3]\n",
      "list3 appended =  [0, 1, 2, 3, 8]\n"
     ]
    }
   ],
   "source": [
    "# different ways of creating lists\n",
    "list1 = [2,4,6]\n",
    "print('list1 = ', list1)\n",
    "\n",
    "list2 = ['air',3,1,5]\n",
    "print('list2 = ', list2)\n",
    "\n",
    "list3 = list(range(4)) # range function returns a sequence of numbers starting from 0 (default) with increments of 1 (default)\n",
    "print('list3 = ', list3)\n",
    "\n",
    "list3.append(8) # append function adds new items to existing list\n",
    "print('list3 appended = ', list3)"
   ]
  },
  {
   "cell_type": "code",
   "execution_count": 307,
   "metadata": {},
   "outputs": [
    {
     "name": "stdout",
     "output_type": "stream",
     "text": [
      "list4 =  [2, 4, 6, 'air', 3, 1, 5]\n",
      "list5 =  [['air', 3, 1, 5], [0, 1, 2, 3, 8]]\n"
     ]
    }
   ],
   "source": [
    "# list addition\n",
    "list4 = list1 + list2\n",
    "print('list4 = ', list4)\n",
    "\n",
    "# nested list of 2D list\n",
    "list5 = [list2, list3] \n",
    "print('list5 = ', list5)"
   ]
  },
  {
   "cell_type": "code",
   "execution_count": 308,
   "metadata": {},
   "outputs": [
    {
     "name": "stdout",
     "output_type": "stream",
     "text": [
      "newList1 =  [0, 1, 4, 9, 64]\n",
      "newList2 =  [0, 1, 16, 81, 4096]\n"
     ]
    }
   ],
   "source": [
    "# list comprehension\n",
    "# return powers of list items\n",
    "newList1 = [item**2 for item in list3]\n",
    "print('newList1 = ', newList1)\n",
    "\n",
    "# nested list comprehension\n",
    "newList2 = [item2**2 for item2 in [item**2 for item in list3]]\n",
    "print('newList2 = ', newList2)"
   ]
  },
  {
   "cell_type": "code",
   "execution_count": 309,
   "metadata": {},
   "outputs": [],
   "source": [
    "# ==================================================================================\n",
    "#                             Indexing and slicing sequences\n",
    "# =================================================================================="
   ]
  },
  {
   "cell_type": "code",
   "execution_count": 310,
   "metadata": {},
   "outputs": [
    {
     "name": "stdout",
     "output_type": "stream",
     "text": [
      "list4 =  [2, 4, 6, 'air', 3, 1, 5]\n",
      "First element of list4 =  2\n",
      "Modified list4 =  [2, 1, 6, 'air', 3, 1, 5]\n"
     ]
    }
   ],
   "source": [
    "# working with single item using positive indexes\n",
    "print('list4 = ', list4)\n",
    "print('First element of list4 = ', list4[0])\n",
    "\n",
    "list4[1] = 1\n",
    "print('Modified list4 = ', list4)"
   ]
  },
  {
   "cell_type": "code",
   "execution_count": 311,
   "metadata": {},
   "outputs": [
    {
     "name": "stdout",
     "output_type": "stream",
     "text": [
      "Last element of list4 =  5\n",
      "Second last element of list4 =  1\n"
     ]
    }
   ],
   "source": [
    "# working with single item using negative indexes\n",
    "print('Last element of list4 = ', list4[-1])\n",
    "print('Second last element of list4 = ', list4[-2])"
   ]
  },
  {
   "cell_type": "code",
   "execution_count": 312,
   "metadata": {},
   "outputs": [
    {
     "name": "stdout",
     "output_type": "stream",
     "text": [
      "list4 =  [2, 1, 6, 'air', 3, 1, 5]\n",
      "the 1st, 2nd, 3rd items of list4 =  [2, 1, 6]\n",
      "the 1st, 2nd, 3rd items of list4 =  [2, 1, 6]\n",
      "items of list4 from index 4 onwards =  [3, 1, 5]\n",
      "items of list4 from index 4 onwards =  [3, 1, 5]\n",
      "accessing list4 elements in steps of 3:  [2, 'air', 5]\n",
      "list 4 backwards =  [5, 1, 3, 'air', 6, 1, 2]\n",
      "Modified list4 =  [2, 1, 0, 0, 3, 1, 5]\n"
     ]
    }
   ],
   "source": [
    "# accessing multiple items through slicing\n",
    "# Syntax: givenList[start,stop,step]; if unspecified, start=0, stop=list length, step=1\n",
    "\n",
    "print('list4 = ', list4)\n",
    "\n",
    "print('the 1st, 2nd, 3rd items of list4 = ', list4[0:3])\n",
    "print('the 1st, 2nd, 3rd items of list4 = ', list4[:3]) # same as above\n",
    "\n",
    "print('items of list4 from index 4 onwards = ', list4[4:len(list4)]) # len() function returns the number of items in list\n",
    "print('items of list4 from index 4 onwards = ', list4[4:]) # same as above\n",
    "\n",
    "print('accessing list4 elements in steps of 3: ', list4[::3])\n",
    "print('list 4 backwards = ', list4[::-1]) # displays list 4 backwards \n",
    "\n",
    "list4[2:4] = [0,0]\n",
    "print('Modified list4 = ', list4)"
   ]
  },
  {
   "cell_type": "code",
   "execution_count": 313,
   "metadata": {},
   "outputs": [],
   "source": [
    "# ==================================================================================\n",
    "#                          Execution control statements\n",
    "# =================================================================================="
   ]
  },
  {
   "cell_type": "code",
   "execution_count": 314,
   "metadata": {},
   "outputs": [
    {
     "name": "stdout",
     "output_type": "stream",
     "text": [
      "list1 before:  [2, 4, 6]\n",
      "list1 after:  ['positive', 4, 6]\n"
     ]
    }
   ],
   "source": [
    "# conditional execution\n",
    "# selectively execute code based on condition\n",
    "print('list1 before: ', list1)\n",
    "\n",
    "if list1[0] > 0:\n",
    "    list1[0] = 'positive'\n",
    "else:\n",
    "    list1[0] = 'negative'\n",
    "\n",
    "print('list1 after: ', list1)"
   ]
  },
  {
   "cell_type": "code",
   "execution_count": 315,
   "metadata": {},
   "outputs": [
    {
     "name": "stdout",
     "output_type": "stream",
     "text": [
      "list3:  [0, 1, 2, 3, 8]\n",
      "Sum of squares of list3 items =  78\n"
     ]
    }
   ],
   "source": [
    "# loop execution\n",
    "# code below computes sum of squares of numbers in list 3\n",
    "print('list3: ', list3)\n",
    "\n",
    "sum_of_squares = 0\n",
    "for i in range(len(list3)):\n",
    "    sum_of_squares += list3[i]**2\n",
    "\n",
    "print('Sum of squares of list3 items = ', sum_of_squares)"
   ]
  },
  {
   "cell_type": "code",
   "execution_count": 316,
   "metadata": {},
   "outputs": [],
   "source": [
    "# ==================================================================================\n",
    "#                          Custom Functions\n",
    "# =================================================================================="
   ]
  },
  {
   "cell_type": "code",
   "execution_count": 317,
   "metadata": {},
   "outputs": [
    {
     "name": "stdout",
     "output_type": "stream",
     "text": [
      "list3:  [0, 1, 2, 3, 8]\n",
      "Sum of squares of list3 items =  78\n",
      "list4:  [2, 1, 0, 0, 3, 1, 5]\n",
      "Sum of squares of list4 items =  40\n"
     ]
    }
   ],
   "source": [
    "# define function instructions\n",
    "def sumSquares(givenList):\n",
    "    sum_of_squares = 0\n",
    "    for i in range(len(givenList)):\n",
    "        sum_of_squares += givenList[i]**2\n",
    "    \n",
    "    return sum_of_squares\n",
    "\n",
    "# call/re-use the custom function multiple times\n",
    "print('list3: ', list3)\n",
    "print('Sum of squares of list3 items = ', sumSquares(list3))\n",
    "\n",
    "print('list4: ', list4)\n",
    "print('Sum of squares of list4 items = ', sumSquares(list4))"
   ]
  },
  {
   "cell_type": "code",
   "execution_count": 318,
   "metadata": {},
   "outputs": [
    {
     "name": "stdout",
     "output_type": "stream",
     "text": [
      "list3:  [0, 1, 2, 3, 8]\n",
      "Sum of cubes of list3 items =  548\n",
      "list4:  [2, 1, 0, 0, 3, 1, 5]\n",
      "Sum of cubes of list4 items =  162\n"
     ]
    }
   ],
   "source": [
    "# use function defined in another script\n",
    "from functionFile import sumCubes\n",
    "\n",
    "print('list3: ', list3)\n",
    "print('Sum of cubes of list3 items = ', sumCubes(list3))\n",
    "\n",
    "print('list4: ', list4)\n",
    "print('Sum of cubes of list4 items = ', sumCubes(list4))"
   ]
  }
 ],
 "metadata": {
  "kernelspec": {
   "display_name": "Python 3",
   "language": "python",
   "name": "python3"
  },
  "language_info": {
   "codemirror_mode": {
    "name": "ipython",
    "version": 3
   },
   "file_extension": ".py",
   "mimetype": "text/x-python",
   "name": "python",
   "nbconvert_exporter": "python",
   "pygments_lexer": "ipython3",
   "version": "3.12.3"
  }
 },
 "nbformat": 4,
 "nbformat_minor": 2
}
