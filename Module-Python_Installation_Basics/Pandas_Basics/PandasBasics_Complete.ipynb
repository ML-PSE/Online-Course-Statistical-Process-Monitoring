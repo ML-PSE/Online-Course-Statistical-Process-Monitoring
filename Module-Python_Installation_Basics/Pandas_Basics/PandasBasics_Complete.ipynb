{
 "cells": [
  {
   "cell_type": "markdown",
   "metadata": {},
   "source": [
    "# **Module**: Python Installation and Basics\n",
    "## **Lecture**: Scientific Computing Package - Pandas"
   ]
  },
  {
   "cell_type": "markdown",
   "metadata": {},
   "source": [
    "> ## Pandas introduction"
   ]
  },
  {
   "cell_type": "code",
   "execution_count": 18,
   "metadata": {},
   "outputs": [
    {
     "name": "stdout",
     "output_type": "stream",
     "text": [
      "series s:\n",
      " 0    10\n",
      "1     8\n",
      "2     6\n",
      "dtype: int64\n",
      "\n",
      "\n",
      "series s2:\n",
      " 0    1\n",
      "1    1\n",
      "2    1\n",
      "dtype: int32\n"
     ]
    }
   ],
   "source": [
    "# create a series (1D structure)\n",
    "import pandas as pd\n",
    "import numpy as np\n",
    "\n",
    "data = [10,8,6]\n",
    "s = pd.Series(data) # can pass numpy array as well\n",
    "print('series s:\\n', s)\n",
    "\n",
    "data2 = np.array([1,1,1])\n",
    "s2 = pd.Series(data2)\n",
    "print('\\n')\n",
    "print('series s2:\\n', s2)"
   ]
  },
  {
   "cell_type": "code",
   "execution_count": 19,
   "metadata": {},
   "outputs": [
    {
     "name": "stdout",
     "output_type": "stream",
     "text": [
      "Number of items in series s:  3\n",
      "Shape of series s:  (3,)\n"
     ]
    }
   ],
   "source": [
    "# get information about series s\n",
    "print('Number of items in series s: ', s.size)\n",
    "print('Shape of series s: ', s.shape) # number of items along each dimension"
   ]
  },
  {
   "cell_type": "code",
   "execution_count": 20,
   "metadata": {},
   "outputs": [
    {
     "name": "stdout",
     "output_type": "stream",
     "text": [
      "dataframe df:\n",
      "    id  value\n",
      "0   1     10\n",
      "1   1      8\n",
      "2   1      6\n",
      "\n",
      "\n",
      "dataframe df:\n",
      "    id  value\n",
      "0   1     10\n",
      "1   1      8\n",
      "2   1      6\n"
     ]
    }
   ],
   "source": [
    "# create a dataframe (2D structure)\n",
    "data = [[1,10],[1,8],[1,6]]\n",
    "df = pd.DataFrame(data, columns=['id', 'value']) # can pass a 2D Numpy array as well\n",
    "print('dataframe df:\\n', df)\n",
    "\n",
    "# dataframe from multiple series\n",
    "df2 = pd.DataFrame({'id':s2, 'value':s}) # can pass 1D Numpy arrays as well in place of series\n",
    "print('\\n')\n",
    "print('dataframe df:\\n', df) # same as above"
   ]
  },
  {
   "cell_type": "code",
   "execution_count": 21,
   "metadata": {},
   "outputs": [
    {
     "name": "stdout",
     "output_type": "stream",
     "text": [
      "Number of items in dataframe df:  6\n",
      "Shape of dataframe df:  (3, 2)\n"
     ]
    }
   ],
   "source": [
    "# get information about dataframe df\n",
    "print('Number of items in dataframe df: ', df.size)\n",
    "print('Shape of dataframe df: ', df.shape) # number of items along each dimension"
   ]
  },
  {
   "cell_type": "markdown",
   "metadata": {},
   "source": [
    "> ## Pandas to Numpy "
   ]
  },
  {
   "cell_type": "code",
   "execution_count": 22,
   "metadata": {},
   "outputs": [
    {
     "name": "stdout",
     "output_type": "stream",
     "text": [
      "arr_1D: \n",
      " [10  8  6]\n",
      "arr_2D: \n",
      " [[ 1 10]\n",
      " [ 1  8]\n",
      " [ 1  6]]\n"
     ]
    }
   ],
   "source": [
    "# Series to 1D Numpy array\n",
    "arr_1D = s.values\n",
    "print('arr_1D: \\n', arr_1D)\n",
    "\n",
    "# Dataframe to 2D Numpy array\n",
    "arr_2D = df.values\n",
    "print('arr_2D: \\n', arr_2D)"
   ]
  },
  {
   "cell_type": "markdown",
   "metadata": {},
   "source": [
    "> ## Data Access"
   ]
  },
  {
   "cell_type": "code",
   "execution_count": 23,
   "metadata": {},
   "outputs": [
    {
     "name": "stdout",
     "output_type": "stream",
     "text": [
      "dataframe df:\n",
      "      id  value\n",
      "101   1     10\n",
      "102   1      8\n",
      "103   1      6\n"
     ]
    }
   ],
   "source": [
    "df = pd.DataFrame(np.array([[1,10],[1,8],[1,6]]), \n",
    "                  columns=['id', 'value'], index=[101, 102, 103]) \n",
    "print('dataframe df:\\n', df)"
   ]
  },
  {
   "cell_type": "code",
   "execution_count": 24,
   "metadata": {},
   "outputs": [
    {
     "name": "stdout",
     "output_type": "stream",
     "text": [
      "8\n",
      "8\n"
     ]
    }
   ],
   "source": [
    "# individual item selection\n",
    "print(df.loc[102, 'value'])\n",
    "print(df.iloc[1, 1]) # same as above"
   ]
  },
  {
   "cell_type": "code",
   "execution_count": 25,
   "metadata": {},
   "outputs": [
    {
     "name": "stdout",
     "output_type": "stream",
     "text": [
      "101    1\n",
      "102    1\n",
      "103    1\n",
      "Name: id, dtype: int32\n",
      "101    1\n",
      "102    1\n",
      "103    1\n",
      "Name: id, dtype: int32\n",
      "     id\n",
      "101   1\n",
      "102   1\n",
      "103   1\n"
     ]
    }
   ],
   "source": [
    "# column(s) selection\n",
    "print(df['id']) # returns column 'id' as a series\n",
    "print(df.id) # same as above\n",
    "print(df[['id']]) # returns specified columns in the list as a dataframe"
   ]
  },
  {
   "cell_type": "code",
   "execution_count": 26,
   "metadata": {},
   "outputs": [
    {
     "name": "stdout",
     "output_type": "stream",
     "text": [
      "id        1\n",
      "value    10\n",
      "Name: 101, dtype: int32\n",
      "\n",
      "\n",
      "id        1\n",
      "value    10\n",
      "Name: 101, dtype: int32\n",
      "\n",
      "\n",
      "     id  value\n",
      "101   1     10\n",
      "102   1      8\n",
      "\n",
      "\n",
      "     id  value\n",
      "101   1     10\n",
      "102   1      8\n"
     ]
    }
   ],
   "source": [
    "# row(s) selection\n",
    "print(df.loc[101]) # returns 2nd row as a series; can provide a list for multiple rows selection\n",
    "print('\\n')\n",
    "print(df.iloc[0]) # integer location-based selection; same result as above\n",
    "\n",
    "print('\\n')\n",
    "print(df.loc[[101,102]]) # returns a dataframe\n",
    "print('\\n')\n",
    "print(df.iloc[0:2]) # same result as above"
   ]
  },
  {
   "cell_type": "markdown",
   "metadata": {},
   "source": [
    "> ## Data Slicing"
   ]
  },
  {
   "cell_type": "code",
   "execution_count": 27,
   "metadata": {},
   "outputs": [
    {
     "data": {
      "text/html": [
       "<div>\n",
       "<style scoped>\n",
       "    .dataframe tbody tr th:only-of-type {\n",
       "        vertical-align: middle;\n",
       "    }\n",
       "\n",
       "    .dataframe tbody tr th {\n",
       "        vertical-align: top;\n",
       "    }\n",
       "\n",
       "    .dataframe thead th {\n",
       "        text-align: right;\n",
       "    }\n",
       "</style>\n",
       "<table border=\"1\" class=\"dataframe\">\n",
       "  <thead>\n",
       "    <tr style=\"text-align: right;\">\n",
       "      <th></th>\n",
       "      <th>var1</th>\n",
       "      <th>var2</th>\n",
       "      <th>var3</th>\n",
       "      <th>var4</th>\n",
       "    </tr>\n",
       "  </thead>\n",
       "  <tbody>\n",
       "    <tr>\n",
       "      <th>0</th>\n",
       "      <td>1</td>\n",
       "      <td>10</td>\n",
       "      <td>3</td>\n",
       "      <td>4</td>\n",
       "    </tr>\n",
       "    <tr>\n",
       "      <th>1</th>\n",
       "      <td>1</td>\n",
       "      <td>8</td>\n",
       "      <td>2</td>\n",
       "      <td>6</td>\n",
       "    </tr>\n",
       "    <tr>\n",
       "      <th>2</th>\n",
       "      <td>1</td>\n",
       "      <td>6</td>\n",
       "      <td>0</td>\n",
       "      <td>0</td>\n",
       "    </tr>\n",
       "    <tr>\n",
       "      <th>3</th>\n",
       "      <td>0</td>\n",
       "      <td>0</td>\n",
       "      <td>3</td>\n",
       "      <td>1</td>\n",
       "    </tr>\n",
       "  </tbody>\n",
       "</table>\n",
       "</div>"
      ],
      "text/plain": [
       "   var1  var2  var3  var4\n",
       "0     1    10     3     4\n",
       "1     1     8     2     6\n",
       "2     1     6     0     0\n",
       "3     0     0     3     1"
      ]
     },
     "execution_count": 27,
     "metadata": {},
     "output_type": "execute_result"
    }
   ],
   "source": [
    "df = pd.DataFrame(np.array([[1,10,3,4],[1,8,2,6],[1,6,0,0],[0,0,3,1]]), \n",
    "                  columns=['var1', 'var2', 'var3', 'var4'])\n",
    "df"
   ]
  },
  {
   "cell_type": "code",
   "execution_count": 28,
   "metadata": {},
   "outputs": [
    {
     "name": "stdout",
     "output_type": "stream",
     "text": [
      "   var2  var3\n",
      "1     8     2\n",
      "2     6     0\n",
      "3     0     3\n",
      "   var2  var3\n",
      "1     8     2\n",
      "2     6     0\n",
      "3     0     3\n",
      "   var2  var3\n",
      "1     8     2\n",
      "2     6     0\n",
      "3     0     3\n"
     ]
    }
   ],
   "source": [
    "# Select var2 and var3 data from rows 1 to 3\n",
    "print(df.iloc[1:, [1,2]])\n",
    "print(df.iloc[1:, 1:3]) # same as above\n",
    "print(df.loc[1:, ['var2', 'var3']]) # same as above"
   ]
  },
  {
   "cell_type": "markdown",
   "metadata": {},
   "source": [
    "> ## Data Manipulation"
   ]
  },
  {
   "cell_type": "code",
   "execution_count": 29,
   "metadata": {},
   "outputs": [
    {
     "data": {
      "text/html": [
       "<div>\n",
       "<style scoped>\n",
       "    .dataframe tbody tr th:only-of-type {\n",
       "        vertical-align: middle;\n",
       "    }\n",
       "\n",
       "    .dataframe tbody tr th {\n",
       "        vertical-align: top;\n",
       "    }\n",
       "\n",
       "    .dataframe thead th {\n",
       "        text-align: right;\n",
       "    }\n",
       "</style>\n",
       "<table border=\"1\" class=\"dataframe\">\n",
       "  <thead>\n",
       "    <tr style=\"text-align: right;\">\n",
       "      <th></th>\n",
       "      <th>trial #</th>\n",
       "      <th>var1</th>\n",
       "      <th>var2</th>\n",
       "      <th>var3</th>\n",
       "      <th>var4</th>\n",
       "    </tr>\n",
       "  </thead>\n",
       "  <tbody>\n",
       "    <tr>\n",
       "      <th>0</th>\n",
       "      <td>1</td>\n",
       "      <td>1</td>\n",
       "      <td>10</td>\n",
       "      <td>3</td>\n",
       "      <td>4</td>\n",
       "    </tr>\n",
       "    <tr>\n",
       "      <th>1</th>\n",
       "      <td>1</td>\n",
       "      <td>1</td>\n",
       "      <td>8</td>\n",
       "      <td>2</td>\n",
       "      <td>6</td>\n",
       "    </tr>\n",
       "    <tr>\n",
       "      <th>2</th>\n",
       "      <td>1</td>\n",
       "      <td>1</td>\n",
       "      <td>6</td>\n",
       "      <td>0</td>\n",
       "      <td>0</td>\n",
       "    </tr>\n",
       "    <tr>\n",
       "      <th>3</th>\n",
       "      <td>2</td>\n",
       "      <td>0</td>\n",
       "      <td>0</td>\n",
       "      <td>3</td>\n",
       "      <td>1</td>\n",
       "    </tr>\n",
       "    <tr>\n",
       "      <th>4</th>\n",
       "      <td>2</td>\n",
       "      <td>3</td>\n",
       "      <td>3</td>\n",
       "      <td>3</td>\n",
       "      <td>0</td>\n",
       "    </tr>\n",
       "    <tr>\n",
       "      <th>5</th>\n",
       "      <td>2</td>\n",
       "      <td>2</td>\n",
       "      <td>6</td>\n",
       "      <td>1</td>\n",
       "      <td>0</td>\n",
       "    </tr>\n",
       "  </tbody>\n",
       "</table>\n",
       "</div>"
      ],
      "text/plain": [
       "   trial #  var1  var2  var3  var4\n",
       "0        1     1    10     3     4\n",
       "1        1     1     8     2     6\n",
       "2        1     1     6     0     0\n",
       "3        2     0     0     3     1\n",
       "4        2     3     3     3     0\n",
       "5        2     2     6     1     0"
      ]
     },
     "execution_count": 29,
     "metadata": {},
     "output_type": "execute_result"
    }
   ],
   "source": [
    "df = pd.DataFrame(np.array([[1,1,10,3,4],[1,1,8,2,6],[1,1,6,0,0],[2,0,0,3,1],[2,3,3,3,0],[2,2,6,1,0]]), \n",
    "                  columns=['trial #', 'var1', 'var2', 'var3', 'var4'])\n",
    "df"
   ]
  },
  {
   "cell_type": "code",
   "execution_count": 30,
   "metadata": {},
   "outputs": [
    {
     "name": "stdout",
     "output_type": "stream",
     "text": [
      "   trial #  var1  var2  var3  var4\n",
      "3        2     0     0     3     1\n",
      "4        2     3     3     3     0\n",
      "5        2     2     6     1     0\n"
     ]
    }
   ],
   "source": [
    "# filtering: Keep data only from trial # 2\n",
    "df_filtered = df[df['trial #']==2]\n",
    "print(df_filtered)"
   ]
  },
  {
   "cell_type": "code",
   "execution_count": 36,
   "metadata": {},
   "outputs": [
    {
     "name": "stdout",
     "output_type": "stream",
     "text": [
      "\n",
      "\n",
      "var1    1.333333\n",
      "var2    5.500000\n",
      "var3    2.000000\n",
      "var4    1.833333\n",
      "dtype: float64\n",
      "\n",
      "\n",
      "1.3333333333333333\n"
     ]
    }
   ],
   "source": [
    "# Agrgregation: Find mean of each variable across all trials\n",
    "meanValues = df.iloc[:,1:].mean() # mean of all columns except the first one\n",
    "print('\\n')\n",
    "print(meanValues)\n",
    "\n",
    "meanValues = df[['var1', 'var2', 'var3']].mean()\n",
    "print(meanValues)\n",
    "\n",
    "\n",
    "print('\\n')\n",
    "print(meanValues['var1'])"
   ]
  },
  {
   "cell_type": "code",
   "execution_count": 32,
   "metadata": {},
   "outputs": [
    {
     "name": "stdout",
     "output_type": "stream",
     "text": [
      "             var1  var2      var3      var4\n",
      "trial #                                    \n",
      "1        1.000000   8.0  1.666667  3.333333\n",
      "2        1.666667   3.0  2.333333  0.333333\n",
      "\n",
      "\n",
      "8.0\n"
     ]
    }
   ],
   "source": [
    "# Grouping: Find trial-wise mean of each variable\n",
    "meanValues_byTrial = df.groupby('trial #').mean()\n",
    "print(meanValues_byTrial)\n",
    "\n",
    "print('\\n')\n",
    "print(meanValues_byTrial.loc[1, 'var2'])"
   ]
  },
  {
   "cell_type": "markdown",
   "metadata": {},
   "source": [
    "> ## File I/O and Data Summary"
   ]
  },
  {
   "cell_type": "code",
   "execution_count": 33,
   "metadata": {},
   "outputs": [
    {
     "data": {
      "text/html": [
       "<div>\n",
       "<style scoped>\n",
       "    .dataframe tbody tr th:only-of-type {\n",
       "        vertical-align: middle;\n",
       "    }\n",
       "\n",
       "    .dataframe tbody tr th {\n",
       "        vertical-align: top;\n",
       "    }\n",
       "\n",
       "    .dataframe thead th {\n",
       "        text-align: right;\n",
       "    }\n",
       "</style>\n",
       "<table border=\"1\" class=\"dataframe\">\n",
       "  <thead>\n",
       "    <tr style=\"text-align: right;\">\n",
       "      <th></th>\n",
       "      <th>Sr. No.</th>\n",
       "      <th>Category</th>\n",
       "      <th>Value</th>\n",
       "    </tr>\n",
       "  </thead>\n",
       "  <tbody>\n",
       "    <tr>\n",
       "      <th>0</th>\n",
       "      <td>1</td>\n",
       "      <td>low</td>\n",
       "      <td>0.10</td>\n",
       "    </tr>\n",
       "    <tr>\n",
       "      <th>1</th>\n",
       "      <td>2</td>\n",
       "      <td>medium</td>\n",
       "      <td>0.60</td>\n",
       "    </tr>\n",
       "    <tr>\n",
       "      <th>2</th>\n",
       "      <td>3</td>\n",
       "      <td>medium</td>\n",
       "      <td>0.60</td>\n",
       "    </tr>\n",
       "    <tr>\n",
       "      <th>3</th>\n",
       "      <td>4</td>\n",
       "      <td>low</td>\n",
       "      <td>0.15</td>\n",
       "    </tr>\n",
       "    <tr>\n",
       "      <th>4</th>\n",
       "      <td>5</td>\n",
       "      <td>high</td>\n",
       "      <td>0.90</td>\n",
       "    </tr>\n",
       "  </tbody>\n",
       "</table>\n",
       "</div>"
      ],
      "text/plain": [
       "   Sr. No. Category  Value\n",
       "0        1      low   0.10\n",
       "1        2   medium   0.60\n",
       "2        3   medium   0.60\n",
       "3        4      low   0.15\n",
       "4        5     high   0.90"
      ]
     },
     "execution_count": 33,
     "metadata": {},
     "output_type": "execute_result"
    }
   ],
   "source": [
    "# read from excel\n",
    "excelData = pd.read_excel('excelDataFile.xlsx')\n",
    "excelData.head()"
   ]
  },
  {
   "cell_type": "code",
   "execution_count": 34,
   "metadata": {},
   "outputs": [
    {
     "data": {
      "text/html": [
       "<div>\n",
       "<style scoped>\n",
       "    .dataframe tbody tr th:only-of-type {\n",
       "        vertical-align: middle;\n",
       "    }\n",
       "\n",
       "    .dataframe tbody tr th {\n",
       "        vertical-align: top;\n",
       "    }\n",
       "\n",
       "    .dataframe thead th {\n",
       "        text-align: right;\n",
       "    }\n",
       "</style>\n",
       "<table border=\"1\" class=\"dataframe\">\n",
       "  <thead>\n",
       "    <tr style=\"text-align: right;\">\n",
       "      <th></th>\n",
       "      <th>Sr. No.</th>\n",
       "      <th>Category</th>\n",
       "      <th>Value</th>\n",
       "    </tr>\n",
       "  </thead>\n",
       "  <tbody>\n",
       "    <tr>\n",
       "      <th>count</th>\n",
       "      <td>5.000000</td>\n",
       "      <td>5</td>\n",
       "      <td>5.000000</td>\n",
       "    </tr>\n",
       "    <tr>\n",
       "      <th>unique</th>\n",
       "      <td>NaN</td>\n",
       "      <td>3</td>\n",
       "      <td>NaN</td>\n",
       "    </tr>\n",
       "    <tr>\n",
       "      <th>top</th>\n",
       "      <td>NaN</td>\n",
       "      <td>low</td>\n",
       "      <td>NaN</td>\n",
       "    </tr>\n",
       "    <tr>\n",
       "      <th>freq</th>\n",
       "      <td>NaN</td>\n",
       "      <td>2</td>\n",
       "      <td>NaN</td>\n",
       "    </tr>\n",
       "    <tr>\n",
       "      <th>mean</th>\n",
       "      <td>3.000000</td>\n",
       "      <td>NaN</td>\n",
       "      <td>0.470000</td>\n",
       "    </tr>\n",
       "    <tr>\n",
       "      <th>std</th>\n",
       "      <td>1.581139</td>\n",
       "      <td>NaN</td>\n",
       "      <td>0.338378</td>\n",
       "    </tr>\n",
       "    <tr>\n",
       "      <th>min</th>\n",
       "      <td>1.000000</td>\n",
       "      <td>NaN</td>\n",
       "      <td>0.100000</td>\n",
       "    </tr>\n",
       "    <tr>\n",
       "      <th>25%</th>\n",
       "      <td>2.000000</td>\n",
       "      <td>NaN</td>\n",
       "      <td>0.150000</td>\n",
       "    </tr>\n",
       "    <tr>\n",
       "      <th>50%</th>\n",
       "      <td>3.000000</td>\n",
       "      <td>NaN</td>\n",
       "      <td>0.600000</td>\n",
       "    </tr>\n",
       "    <tr>\n",
       "      <th>75%</th>\n",
       "      <td>4.000000</td>\n",
       "      <td>NaN</td>\n",
       "      <td>0.600000</td>\n",
       "    </tr>\n",
       "    <tr>\n",
       "      <th>max</th>\n",
       "      <td>5.000000</td>\n",
       "      <td>NaN</td>\n",
       "      <td>0.900000</td>\n",
       "    </tr>\n",
       "  </tbody>\n",
       "</table>\n",
       "</div>"
      ],
      "text/plain": [
       "         Sr. No. Category     Value\n",
       "count   5.000000        5  5.000000\n",
       "unique       NaN        3       NaN\n",
       "top          NaN      low       NaN\n",
       "freq         NaN        2       NaN\n",
       "mean    3.000000      NaN  0.470000\n",
       "std     1.581139      NaN  0.338378\n",
       "min     1.000000      NaN  0.100000\n",
       "25%     2.000000      NaN  0.150000\n",
       "50%     3.000000      NaN  0.600000\n",
       "75%     4.000000      NaN  0.600000\n",
       "max     5.000000      NaN  0.900000"
      ]
     },
     "execution_count": 34,
     "metadata": {},
     "output_type": "execute_result"
    }
   ],
   "source": [
    "excelData.describe(include='all')"
   ]
  }
 ],
 "metadata": {
  "kernelspec": {
   "display_name": "base",
   "language": "python",
   "name": "python3"
  },
  "language_info": {
   "codemirror_mode": {
    "name": "ipython",
    "version": 3
   },
   "file_extension": ".py",
   "mimetype": "text/x-python",
   "name": "python",
   "nbconvert_exporter": "python",
   "pygments_lexer": "ipython3",
   "version": "3.12.7"
  }
 },
 "nbformat": 4,
 "nbformat_minor": 2
}
